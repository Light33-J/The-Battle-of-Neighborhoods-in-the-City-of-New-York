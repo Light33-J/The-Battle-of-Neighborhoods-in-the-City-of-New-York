{
 "cells": [
  {
   "cell_type": "markdown",
   "metadata": {},
   "source": [
    "# The battle of neighborhood in the city of new york (Week1)\n"
   ]
  },
  {
   "cell_type": "markdown",
   "metadata": {},
   "source": [
    "## In this capstone project, we'll use the Foursquare API to get the most common venues categories in Neighborhoods in the City of New York."
   ]
  },
  {
   "cell_type": "markdown",
   "metadata": {},
   "source": [
    "### Introduction\n",
    "\n",
    "a well know compagny namely a fast food in the restaurant domain would like to open 4 agencies in the city of New York.\n",
    "But the problem is knowing New York a very big city perhaps the biggest in the world, plus the financial capital of the USA.\n",
    "There is arguably a very high competition among restaurant compagnies out there. It'll be very efficient to target prospective places by analyzing and clustering neighborhoods using the Foursquare API, then visualize the results using the Folium Library.\n",
    "we will throughout this projet:\n",
    "Download and explore Dataset,\n",
    "Explore Neighborhoods in New York City,\n",
    "Analyze Each Neighborhood,\n",
    "Cluster Neighborhoods,\n",
    "Examine Clusters, and finally\n",
    "Determine Restaurants places in New York, either Bronx, Brooklyn, Manhattan, Queens or Staten Island.\n"
   ]
  },
  {
   "cell_type": "code",
   "execution_count": null,
   "metadata": {},
   "outputs": [],
   "source": []
  }
 ],
 "metadata": {
  "kernelspec": {
   "display_name": "Python",
   "language": "python",
   "name": "conda-env-python-py"
  },
  "language_info": {
   "codemirror_mode": {
    "name": "ipython",
    "version": 3
   },
   "file_extension": ".py",
   "mimetype": "text/x-python",
   "name": "python",
   "nbconvert_exporter": "python",
   "pygments_lexer": "ipython3",
   "version": "3.6.12"
  }
 },
 "nbformat": 4,
 "nbformat_minor": 4
}
